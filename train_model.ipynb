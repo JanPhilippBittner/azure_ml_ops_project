{
 "cells": [
  {
   "cell_type": "code",
   "execution_count": 2,
   "id": "1fa77c1e-ccf3-4e30-84b6-b2dc8d0896e7",
   "metadata": {
    "gather": {
     "logged": 1726865177279
    },
    "tags": []
   },
   "outputs": [],
   "source": [
    "# Create a handler\n",
    "from azure.ai.ml import MLClient\n",
    "from azure.identity import DefaultAzureCredential\n",
    "\n",
    "# authenticate\n",
    "credential = DefaultAzureCredential()\n",
    "SUBSCRIPTION=<subscription id>\n",
    "RESOURCE_GROUP=<name of resource group>\n",
    "WS_NAME=<Name of Workspace>\n",
    "\n",
    "# Get a handle to the workspace\n",
    "ml_client = MLClient(\n",
    "    credential=credential,\n",
    "    subscription_id=SUBSCRIPTION,\n",
    "    resource_group_name=RESOURCE_GROUP,\n",
    "    workspace_name=WS_NAME,\n",
    ")"
   ]
  },
  {
   "cell_type": "code",
   "execution_count": 3,
   "id": "d12d7f22-fb3d-4740-abd2-e38a0dfacb09",
   "metadata": {
    "gather": {
     "logged": 1726865177578
    },
    "tags": []
   },
   "outputs": [
    {
     "name": "stdout",
     "output_type": "stream",
     "text": [
      "northeurope : from_model_to_production\n"
     ]
    }
   ],
   "source": [
    "# Verification that Handler is running and able to interact with workspace\n",
    "ws = ml_client.workspaces.get(WS_NAME)\n",
    "print(ws.location,\":\", ws.resource_group)"
   ]
  },
  {
   "cell_type": "code",
   "execution_count": 4,
   "id": "22d7ba98-78a1-491a-b6fe-4d28af68decf",
   "metadata": {
    "gather": {
     "logged": 1726865177814
    },
    "tags": []
   },
   "outputs": [],
   "source": [
    "# Createa an environment\n",
    "import os\n",
    "\n",
    "dependencies_dir = \"./dependencies\"\n",
    "os.makedirs(dependencies_dir, exist_ok=True)"
   ]
  },
  {
   "cell_type": "code",
   "execution_count": 5,
   "id": "b23be9f4-a587-4251-8228-55d1a41ef92f",
   "metadata": {
    "tags": []
   },
   "outputs": [
    {
     "name": "stdout",
     "output_type": "stream",
     "text": [
      "Overwriting ./dependencies/conda.yaml\n"
     ]
    }
   ],
   "source": [
    "%%writefile {dependencies_dir}/conda.yaml\n",
    "name: model-env\n",
    "channels:\n",
    "  - conda-forge\n",
    "dependencies:\n",
    "  - python=3.8\n",
    "  - numpy=1.21.2\n",
    "  - pip=21.2.4\n",
    "  - scikit-learn=1.0.2\n",
    "  - scipy=1.7.1\n",
    "  - pandas>=1.1,<1.2\n",
    "  - pip:\n",
    "    - inference-schema[numpy-support]==1.3.0\n",
    "    - mlflow==2.8.0\n",
    "    - mlflow-skinny==2.8.0\n",
    "    - azureml-mlflow==1.51.0\n",
    "    - psutil>=5.8,<5.9\n",
    "    - tqdm>=4.59,<4.60\n",
    "    - ipykernel~=6.0\n",
    "    - matplotlib\n",
    "    - opencv-python-headless\n",
    "    - pillow"
   ]
  },
  {
   "cell_type": "code",
   "execution_count": 6,
   "id": "00e353e8-f365-4a28-ba66-31c04285a5f2",
   "metadata": {
    "gather": {
     "logged": 1726865178596
    },
    "tags": []
   },
   "outputs": [
    {
     "name": "stdout",
     "output_type": "stream",
     "text": [
      "Environment with name aml-scikit-learn is registered to workspace, the environment version is 24\n"
     ]
    }
   ],
   "source": [
    "from azure.ai.ml.entities import Environment\n",
    "\n",
    "custom_env_name = \"aml-scikit-learn\"\n",
    "\n",
    "custom_job_env = Environment(\n",
    "    name=custom_env_name,\n",
    "    description=\"Custom environment for image classification\",\n",
    "    tags={\"scikit-learn\": \"1.0.2\"},\n",
    "    conda_file=os.path.join(dependencies_dir, \"conda.yaml\"),\n",
    "    image=\"mcr.microsoft.com/azureml/openmpi4.1.0-ubuntu20.04:latest\",\n",
    ")\n",
    "custom_job_env = ml_client.environments.create_or_update(custom_job_env)\n",
    "\n",
    "print(\n",
    "    f\"Environment with name {custom_job_env.name} is registered to workspace, the environment version is {custom_job_env.version}\"\n",
    ")"
   ]
  },
  {
   "cell_type": "code",
   "execution_count": 7,
   "id": "25890490-30a4-4461-905b-6434c8190b7b",
   "metadata": {
    "gather": {
     "logged": 1726865179001
    },
    "tags": []
   },
   "outputs": [],
   "source": [
    "# Create training script"
   ]
  },
  {
   "cell_type": "code",
   "execution_count": 8,
   "id": "29b4f893-9e26-47b1-a845-d2c2806cb2c4",
   "metadata": {
    "gather": {
     "logged": 1726865179214
    },
    "tags": []
   },
   "outputs": [],
   "source": [
    "import os\n",
    "\n",
    "train_src_dir = \"./src\"\n",
    "os.makedirs(train_src_dir, exist_ok=True)"
   ]
  },
  {
   "cell_type": "code",
   "execution_count": 9,
   "id": "0d58dc62-f008-443e-9788-b4c2c98092d6",
   "metadata": {
    "tags": []
   },
   "outputs": [
    {
     "name": "stdout",
     "output_type": "stream",
     "text": [
      "Overwriting ./src/main.py\n"
     ]
    }
   ],
   "source": [
    "%%writefile {train_src_dir}/main.py\n",
    "import os\n",
    "import argparse\n",
    "import pandas as pd\n",
    "import mlflow\n",
    "import mlflow.sklearn\n",
    "from mlflow.models.signature import infer_signature\n",
    "\n",
    "\n",
    "from PIL import Image\n",
    "import cv2\n",
    "import io\n",
    "\n",
    "import numpy as np\n",
    "\n",
    "from sklearn.svm import SVC\n",
    "\n",
    "from sklearn.metrics import classification_report\n",
    "from sklearn.model_selection import train_test_split\n",
    "from sklearn.metrics import accuracy_score, precision_score, recall_score, f1_score\n",
    "\n",
    "\n",
    "\n",
    "\n",
    "def main():\n",
    "    \"\"\"Main function of the script.\"\"\"\n",
    "\n",
    "    # input and output arguments\n",
    "    parser = argparse.ArgumentParser()\n",
    "    parser.add_argument(\"--registered_model_name\", type=str, help=\"model name\")\n",
    "    parser.add_argument(\"--data\", type=str, help=\"path to input data\")\n",
    "    args = parser.parse_args()\n",
    "   \n",
    "    # Start Logging\n",
    "    mlflow.start_run()\n",
    "\n",
    "    # enable autologging\n",
    "    mlflow.sklearn.autolog()\n",
    "\n",
    "    ###################\n",
    "    #<prepare the data>\n",
    "    ###################\n",
    "    \n",
    "\n",
    "\n",
    "    data_dir = args.data\n",
    "    folder_paths = [os.path.join(data_dir, d) for d in os.listdir(data_dir) if os.path.isdir(os.path.join(data_dir, d))]\n",
    "\n",
    " \n",
    "\n",
    "    images = []\n",
    "    labels = []\n",
    "\n",
    "\n",
    "\n",
    "    for folder in folder_paths:\n",
    "        class_name = os.path.basename(folder)\n",
    "        image_files = [os.path.join(folder, f) for f in os.listdir(folder) if f.endswith('.jpg') or f.endswith('.png')]\n",
    "\n",
    "        for img_file in image_files:\n",
    "            img = Image.open(img_file)\n",
    "            img = cv2.cvtColor(np.array(img), cv2.COLOR_RGB2BGR)\n",
    "            img = cv2.resize(img, (64, 64))\n",
    "            img = img.flatten()\n",
    "\n",
    "            images.append(img)\n",
    "            labels.append(class_name)\n",
    "\n",
    "\n",
    "    images = np.array(images) \n",
    "    labels = np.array(labels) \n",
    "\n",
    "\n",
    "    mlflow.log_metric(\"num_samples\", len(images))\n",
    "    mlflow.log_metric(\"num_features\", 1)\n",
    "    mlflow.log_metric(\"num_features_per_image\", len(images[0]) if images.size > 0 else 0)\n",
    "\n",
    "    #Split train and test datasets\n",
    "    X_train, X_test, y_train, y_test = train_test_split(images, labels, test_size=0.2, train_size=0.8 , random_state=42)\n",
    "\n",
    "    # Convert to numpy array before training\n",
    "    X_train = np.array(X_train)\n",
    "    y_train = np.array(y_train)\n",
    "\n",
    "\n",
    "\n",
    "    ####################\n",
    "    #</prepare the data>\n",
    "    ####################\n",
    "\n",
    "    ##################\n",
    "    #<train the model>\n",
    "    ##################\n",
    "    svm = SVC(kernel='linear' , probability=True)\n",
    "    svm.fit(X_train, y_train) \n",
    "\n",
    "    # Predict on the test set\n",
    "    y_pred = svm.predict(X_test)\n",
    "\n",
    "    # Predict the probabilities for each class\n",
    "    y_proba = svm.predict_proba(X_test)\n",
    "\n",
    "\n",
    "\n",
    "    \n",
    "    # Log performance metrics manually\n",
    "    accuracy = accuracy_score(y_test, y_pred)\n",
    "    precision = precision_score(y_test, y_pred, average='weighted')\n",
    "    recall = recall_score(y_test, y_pred, average='weighted')\n",
    "    f1 = f1_score(y_test, y_pred, average='weighted')\n",
    "    \n",
    "    \n",
    "    \n",
    "    mlflow.log_metric(\"accuracy\", accuracy)\n",
    "    mlflow.log_metric(\"precision\", precision)\n",
    "    mlflow.log_metric(\"recall\", recall)\n",
    "    mlflow.log_metric(\"f1_score\", f1)\n",
    "\n",
    "    print(\"Accuracy:\", accuracy)\n",
    "    print(\"Precision:\", precision)\n",
    "    print(\"Recall:\", recall)\n",
    "    print(\"F1 Score:\", f1)\n",
    "\n",
    "\n",
    "    print(classification_report(y_test, y_pred))\n",
    "    ###################\n",
    "    #</train the model>\n",
    "    ###################\n",
    "\n",
    "    ##########################\n",
    "    #<save and register model>\n",
    "    ##########################\n",
    "    \n",
    "    # After training your model\n",
    "    signature = infer_signature(X_train, y_train)\n",
    "    \n",
    "    # Registering the model to the workspace\n",
    "    print(\"Registering the model via MLFlow\")\n",
    "    mlflow.sklearn.log_model(\n",
    "        sk_model=svm,\n",
    "        registered_model_name=args.registered_model_name,\n",
    "        artifact_path=args.registered_model_name,\n",
    "        signature=signature,\n",
    "    )\n",
    "\n",
    "    # Saving the model to a file\n",
    "    mlflow.sklearn.save_model(\n",
    "        sk_model=svm,\n",
    "        path=os.path.join(args.registered_model_name, \"trained_model\"),\n",
    "    )\n",
    "\n",
    "    #</save and register model>\n",
    "    ###########################\n",
    "    \n",
    "    # Stop Logging\n",
    "    mlflow.end_run()\n",
    "\n",
    "if __name__ == \"__main__\":\n",
    "    main()"
   ]
  },
  {
   "cell_type": "code",
   "execution_count": 10,
   "id": "3a673c0b-1c8b-4499-a1e6-baf315d63546",
   "metadata": {
    "gather": {
     "logged": 1726865179699
    },
    "tags": []
   },
   "outputs": [],
   "source": [
    "from azure.ai.ml import command\n",
    "from azure.ai.ml import Input\n",
    "\n",
    "registered_model_name = \"image_classification_model\"\n",
    "\n",
    "job = command(\n",
    "    inputs=dict(\n",
    "        data=Input(\n",
    "            type=\"uri_folder\",\n",
    "            path=<path to blob store of animal images>,\n",
    "        ),\n",
    "        registered_model_name=registered_model_name,\n",
    "    ),\n",
    "    code=\"./src/\", \n",
    "    command=\"python main.py --data ${{inputs.data}} --registered_model_name ${{inputs.registered_model_name}}\",\n",
    "    environment=\"aml-scikit-learn@latest\",\n",
    "    display_name=\"pet_classification\",\n",
    "    compute=\"MLprodComputeCheap\",\n",
    ")"
   ]
  },
  {
   "cell_type": "code",
   "execution_count": 11,
   "id": "933e93cf-6de3-4434-8f48-affbc5324945",
   "metadata": {
    "gather": {
     "logged": 1726865181645
    },
    "tags": []
   },
   "outputs": [
    {
     "name": "stderr",
     "output_type": "stream",
     "text": [
      "Class AutoDeleteSettingSchema: This is an experimental class, and may change at any time. Please see https://aka.ms/azuremlexperimental for more information.\n",
      "Class AutoDeleteConditionSchema: This is an experimental class, and may change at any time. Please see https://aka.ms/azuremlexperimental for more information.\n",
      "Class BaseAutoDeleteSettingSchema: This is an experimental class, and may change at any time. Please see https://aka.ms/azuremlexperimental for more information.\n",
      "Class IntellectualPropertySchema: This is an experimental class, and may change at any time. Please see https://aka.ms/azuremlexperimental for more information.\n",
      "Class ProtectionLevelSchema: This is an experimental class, and may change at any time. Please see https://aka.ms/azuremlexperimental for more information.\n",
      "Class BaseIntellectualPropertySchema: This is an experimental class, and may change at any time. Please see https://aka.ms/azuremlexperimental for more information.\n",
      "\u001b[32mUploading src (0.0 MBs): 100%|██████████| 4655/4655 [00:00<00:00, 71396.39it/s]\n",
      "\u001b[39m\n",
      "\n"
     ]
    },
    {
     "data": {
      "text/html": [
       "<table style=\"width:100%\"><tr><th>Experiment</th><th>Name</th><th>Type</th><th>Status</th><th>Details Page</th></tr><tr><td>janphilipp</td><td>frosty_lettuce_tjll2rymr4</td><td>command</td><td>Starting</td><td><a href=\"https://ml.azure.com/runs/frosty_lettuce_tjll2rymr4?wsid=/subscriptions/28cf8bdb-6861-4764-a3b5-46cfa8cf8d81/resourcegroups/from_model_to_production/workspaces/from_model_to_production&amp;tid=f419c9fe-f7b0-4d87-bee8-e8dfb2190cab\" target=\"_blank\" rel=\"noopener\">Link to Azure Machine Learning studio</a></td></tr></table>"
      ],
      "text/plain": [
       "Command({'parameters': {}, 'init': False, 'name': 'frosty_lettuce_tjll2rymr4', 'type': 'command', 'status': 'Starting', 'log_files': None, 'description': None, 'tags': {}, 'properties': {'_azureml.ComputeTargetType': 'amlcdsi', '_azureml.ClusterName': 'MLprodComputeCheap', 'ContentSnapshotId': '1087511a-3d1e-4070-b4cd-36cbc674ad88'}, 'print_as_yaml': False, 'id': '/subscriptions/28cf8bdb-6861-4764-a3b5-46cfa8cf8d81/resourceGroups/from_model_to_production/providers/Microsoft.MachineLearningServices/workspaces/from_model_to_production/jobs/frosty_lettuce_tjll2rymr4', 'Resource__source_path': '', 'base_path': '/mnt/batch/tasks/shared/LS_root/mounts/clusters/mlprodcomputecheap/code/Users/janphilipp.bittner', 'creation_context': <azure.ai.ml.entities._system_data.SystemData object at 0x7f94441abac0>, 'serialize': <msrest.serialization.Serializer object at 0x7f94441abdc0>, 'allowed_keys': {}, 'key_restriction': False, 'logger': <TraceLogger attr_dict (WARNING)>, 'display_name': 'pet_classification', 'experiment_name': 'janphilipp', 'compute': 'MLprodComputeCheap', 'services': {'Tracking': {'endpoint': 'azureml://northeurope.api.azureml.ms/mlflow/v1.0/subscriptions/28cf8bdb-6861-4764-a3b5-46cfa8cf8d81/resourceGroups/from_model_to_production/providers/Microsoft.MachineLearningServices/workspaces/from_model_to_production?', 'type': 'Tracking'}, 'Studio': {'endpoint': 'https://ml.azure.com/runs/frosty_lettuce_tjll2rymr4?wsid=/subscriptions/28cf8bdb-6861-4764-a3b5-46cfa8cf8d81/resourcegroups/from_model_to_production/workspaces/from_model_to_production&tid=f419c9fe-f7b0-4d87-bee8-e8dfb2190cab', 'type': 'Studio'}}, 'comment': None, 'job_inputs': {'data': {'type': 'uri_folder', 'path': 'azureml://subscriptions/28cf8bdb-6861-4764-a3b5-46cfa8cf8d81/resourcegroups/from_model_to_production/workspaces/from_model_to_production/datastores/workspaceblobstore/paths/UI/2024-10-10_183358_UTC/IU_from_model_to_production_model_training/', 'mode': 'ro_mount'}, 'registered_model_name': 'image_classification_model'}, 'job_outputs': {'default': {'type': 'uri_folder', 'path': 'azureml://datastores/workspaceartifactstore/ExperimentRun/dcid.frosty_lettuce_tjll2rymr4', 'mode': 'rw_mount'}}, 'inputs': {'data': <azure.ai.ml.entities._job.pipeline._io.base.NodeInput object at 0x7f94441ab010>, 'registered_model_name': <azure.ai.ml.entities._job.pipeline._io.base.NodeInput object at 0x7f94441ab8e0>}, 'outputs': {'default': <azure.ai.ml.entities._job.pipeline._io.base.NodeOutput object at 0x7f94441abe20>}, 'component': CommandComponent({'latest_version': None, 'intellectual_property': None, 'auto_increment_version': True, 'source': 'REMOTE.WORKSPACE.JOB', 'is_anonymous': False, 'auto_delete_setting': None, 'name': 'frosty_lettuce_tjll2rymr4', 'description': None, 'tags': {}, 'properties': {}, 'print_as_yaml': False, 'id': None, 'Resource__source_path': None, 'base_path': '/mnt/batch/tasks/shared/LS_root/mounts/clusters/mlprodcomputecheap/code/Users/janphilipp.bittner', 'creation_context': <azure.ai.ml.entities._system_data.SystemData object at 0x7f94441abac0>, 'serialize': <msrest.serialization.Serializer object at 0x7f94441ab730>, 'command': 'python main.py --data ${{inputs.data}} --registered_model_name ${{inputs.registered_model_name}}', 'code': '/subscriptions/28cf8bdb-6861-4764-a3b5-46cfa8cf8d81/resourceGroups/from_model_to_production/providers/Microsoft.MachineLearningServices/workspaces/from_model_to_production/codes/112758f5-bc16-4eb0-9daa-1ff4ba928542/versions/1', 'environment_variables': {}, 'environment': '/subscriptions/28cf8bdb-6861-4764-a3b5-46cfa8cf8d81/resourceGroups/from_model_to_production/providers/Microsoft.MachineLearningServices/workspaces/from_model_to_production/environments/aml-scikit-learn/versions/24', 'distribution': None, 'resources': None, 'queue_settings': None, 'version': None, 'schema': None, 'type': 'command', 'display_name': 'pet_classification', 'is_deterministic': True, 'inputs': {'data': {'type': 'uri_folder', 'path': 'azureml://subscriptions/28cf8bdb-6861-4764-a3b5-46cfa8cf8d81/resourcegroups/from_model_to_production/workspaces/from_model_to_production/datastores/workspaceblobstore/paths/UI/2024-10-10_183358_UTC/IU_from_model_to_production_model_training/', 'mode': 'ro_mount'}, 'registered_model_name': {'type': 'string', 'default': 'image_classification_model'}}, 'outputs': {'default': {'type': 'uri_folder', 'path': 'azureml://datastores/workspaceartifactstore/ExperimentRun/dcid.frosty_lettuce_tjll2rymr4', 'mode': 'rw_mount'}}, 'yaml_str': None, 'other_parameter': {'status': 'Starting', 'parameters': {}}, 'additional_includes': []}), 'referenced_control_flow_node_instance_id': None, 'kwargs': {'services': {'Tracking': {'endpoint': 'azureml://northeurope.api.azureml.ms/mlflow/v1.0/subscriptions/28cf8bdb-6861-4764-a3b5-46cfa8cf8d81/resourceGroups/from_model_to_production/providers/Microsoft.MachineLearningServices/workspaces/from_model_to_production?', 'type': 'Tracking'}, 'Studio': {'endpoint': 'https://ml.azure.com/runs/frosty_lettuce_tjll2rymr4?wsid=/subscriptions/28cf8bdb-6861-4764-a3b5-46cfa8cf8d81/resourcegroups/from_model_to_production/workspaces/from_model_to_production&tid=f419c9fe-f7b0-4d87-bee8-e8dfb2190cab', 'type': 'Studio'}}, 'status': 'Starting', 'creation_context': <azure.ai.ml.entities._system_data.SystemData object at 0x7f94441abac0>}, 'instance_id': '188579f3-a827-4f17-b118-6947025d7ac9', 'source': 'BUILDER', 'validate_required_input_not_provided': True, 'limits': None, 'identity': None, 'distribution': None, 'environment_variables': {}, 'environment': 'aml-scikit-learn:24', 'resources': {'instance_count': 1, 'shm_size': '2g'}, 'queue_settings': None, 'swept': False})"
      ]
     },
     "execution_count": 11,
     "metadata": {},
     "output_type": "execute_result"
    }
   ],
   "source": [
    "ml_client.create_or_update(job)"
   ]
  }
 ],
 "metadata": {
  "kernel_info": {
   "name": "python310-sdkv2"
  },
  "kernelspec": {
   "display_name": "Python 3 (ipykernel)",
   "language": "python",
   "name": "python3"
  },
  "language_info": {
   "codemirror_mode": {
    "name": "ipython",
    "version": 3
   },
   "file_extension": ".py",
   "mimetype": "text/x-python",
   "name": "python",
   "nbconvert_exporter": "python",
   "pygments_lexer": "ipython3",
   "version": "3.10.14"
  },
  "microsoft": {
   "host": {
    "AzureML": {
     "notebookHasBeenCompleted": true
    }
   },
   "ms_spell_check": {
    "ms_spell_check_language": "en"
   }
  },
  "nteract": {
   "version": "nteract-front-end@1.0.0"
  }
 },
 "nbformat": 4,
 "nbformat_minor": 5
}
